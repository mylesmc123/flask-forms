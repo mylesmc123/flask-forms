{
 "cells": [
  {
   "cell_type": "code",
   "execution_count": 34,
   "metadata": {},
   "outputs": [],
   "source": [
    "import glob\n",
    "import copy\n"
   ]
  },
  {
   "cell_type": "code",
   "execution_count": 2,
   "metadata": {},
   "outputs": [
    {
     "name": "stdout",
     "output_type": "stream",
     "text": [
      "\n",
      "Named with wildcard *:\n",
      "Z:\\Amite\\Amite_LWI\\Models\\Amite_RAS\\Amite_2022.b03\n",
      "Z:\\Amite\\Amite_LWI\\Models\\Amite_RAS\\Amite_2022.b04\n",
      "Z:\\Amite\\Amite_LWI\\Models\\Amite_RAS\\Amite_2022.b07\n",
      "Z:\\Amite\\Amite_LWI\\Models\\Amite_RAS\\Amite_2022.b98\n",
      "Z:\\Amite\\Amite_LWI\\Models\\Amite_RAS\\Amite_2022.bco03\n",
      "Z:\\Amite\\Amite_LWI\\Models\\Amite_RAS\\Amite_2022.bco04\n",
      "Z:\\Amite\\Amite_LWI\\Models\\Amite_RAS\\Amite_2022.bco07\n",
      "Z:\\Amite\\Amite_LWI\\Models\\Amite_RAS\\Amite_2022.c01\n",
      "Z:\\Amite\\Amite_LWI\\Models\\Amite_RAS\\Amite_2022.color_scales\n",
      "Z:\\Amite\\Amite_LWI\\Models\\Amite_RAS\\Amite_2022.dsc.h5\n",
      "Z:\\Amite\\Amite_LWI\\Models\\Amite_RAS\\Amite_2022.dss\n",
      "Z:\\Amite\\Amite_LWI\\Models\\Amite_RAS\\Amite_2022.g01\n",
      "Z:\\Amite\\Amite_LWI\\Models\\Amite_RAS\\Amite_2022.g01.hdf\n",
      "Z:\\Amite\\Amite_LWI\\Models\\Amite_RAS\\Amite_2022.IC.O03\n",
      "Z:\\Amite\\Amite_LWI\\Models\\Amite_RAS\\Amite_2022.IC.O04\n",
      "Z:\\Amite\\Amite_LWI\\Models\\Amite_RAS\\Amite_2022.IC.O07\n",
      "Z:\\Amite\\Amite_LWI\\Models\\Amite_RAS\\Amite_2022.p01\n",
      "Z:\\Amite\\Amite_LWI\\Models\\Amite_RAS\\Amite_2022.p02\n",
      "Z:\\Amite\\Amite_LWI\\Models\\Amite_RAS\\Amite_2022.p03\n",
      "Z:\\Amite\\Amite_LWI\\Models\\Amite_RAS\\Amite_2022.p03.hdf\n",
      "Z:\\Amite\\Amite_LWI\\Models\\Amite_RAS\\Amite_2022.p04\n",
      "Z:\\Amite\\Amite_LWI\\Models\\Amite_RAS\\Amite_2022.p04.19AUG2022 2400.rst\n",
      "Z:\\Amite\\Amite_LWI\\Models\\Amite_RAS\\Amite_2022.p04.hdf\n",
      "Z:\\Amite\\Amite_LWI\\Models\\Amite_RAS\\Amite_2022.p07\n",
      "Z:\\Amite\\Amite_LWI\\Models\\Amite_RAS\\Amite_2022.p07.hdf\n",
      "Z:\\Amite\\Amite_LWI\\Models\\Amite_RAS\\Amite_2022.p98.tmp.hdf\n",
      "Z:\\Amite\\Amite_LWI\\Models\\Amite_RAS\\Amite_2022.prj\n",
      "Z:\\Amite\\Amite_LWI\\Models\\Amite_RAS\\Amite_2022.rasmap\n",
      "Z:\\Amite\\Amite_LWI\\Models\\Amite_RAS\\Amite_2022.rasmap.backup\n",
      "Z:\\Amite\\Amite_LWI\\Models\\Amite_RAS\\Amite_2022.u01\n",
      "Z:\\Amite\\Amite_LWI\\Models\\Amite_RAS\\Amite_2022.u01.hdf\n",
      "Z:\\Amite\\Amite_LWI\\Models\\Amite_RAS\\Amite_2022.u02\n",
      "Z:\\Amite\\Amite_LWI\\Models\\Amite_RAS\\Amite_2022.u02.hdf\n",
      "Z:\\Amite\\Amite_LWI\\Models\\Amite_RAS\\Amite_2022.u05\n",
      "Z:\\Amite\\Amite_LWI\\Models\\Amite_RAS\\Amite_2022.u05.hdf\n",
      "Z:\\Amite\\Amite_LWI\\Models\\Amite_RAS\\Amite_2022.x01\n",
      "Z:\\Amite\\Amite_LWI\\Models\\Amite_RAS\\Backup.p01\n",
      "Z:\\Amite\\Amite_LWI\\Models\\Amite_RAS\\Backup.u01\n",
      "Z:\\Amite\\Amite_LWI\\Models\\Amite_RAS\\Backup.u01.hdf\n",
      "Z:\\Amite\\Amite_LWI\\Models\\Amite_RAS\\BC_Extended\n",
      "Z:\\Amite\\Amite_LWI\\Models\\Amite_RAS\\Features\n",
      "Z:\\Amite\\Amite_LWI\\Models\\Amite_RAS\\Isaac_all_AORC_Opt\n",
      "Z:\\Amite\\Amite_LWI\\Models\\Amite_RAS\\LULC\n",
      "Z:\\Amite\\Amite_LWI\\Models\\Amite_RAS\\Projection\n",
      "Z:\\Amite\\Amite_LWI\\Models\\Amite_RAS\\Terrain\n"
     ]
    }
   ],
   "source": [
    "# Using '*' pattern \n",
    "print('\\nNamed with wildcard *:')\n",
    "for name in glob.glob(r'Z:\\Amite\\Amite_LWI\\Models\\Amite_RAS\\*'):\n",
    "    print(name)"
   ]
  },
  {
   "cell_type": "code",
   "execution_count": 3,
   "metadata": {},
   "outputs": [
    {
     "name": "stdout",
     "output_type": "stream",
     "text": [
      "Z:\\Amite\\Amite_LWI\\Models\\Amite_RAS\\Amite_2022.prj\n"
     ]
    }
   ],
   "source": [
    "# find *.prj files\n",
    "for name in glob.glob(r'Z:\\Amite\\Amite_LWI\\Models\\Amite_RAS\\*.prj'):\n",
    "    print(name)"
   ]
  },
  {
   "cell_type": "code",
   "execution_count": 40,
   "metadata": {},
   "outputs": [
    {
     "data": {
      "text/plain": [
       "['Proj Title=Amite_2022\\n',\n",
       " 'Current Plan=p07\\n',\n",
       " 'Default Exp/Contr=0.3,0.1\\n',\n",
       " 'English Units\\n',\n",
       " 'Geom File=g01\\n',\n",
       " 'Unsteady File=u05\\n',\n",
       " 'Unsteady File=u01\\n',\n",
       " 'Unsteady File=u02\\n',\n",
       " 'Plan File=p07\\n',\n",
       " 'Plan File=p01\\n',\n",
       " 'Plan File=p02\\n',\n",
       " 'Plan File=p03\\n',\n",
       " 'Plan File=p04\\n',\n",
       " 'Background Map Layer=Gauging Stations\\n',\n",
       " 'Y Axis Title=Elevation\\n',\n",
       " 'X Axis Title(PF)=Main Channel Distance\\n',\n",
       " 'X Axis Title(XS)=Station\\n',\n",
       " 'BEGIN DESCRIPTION:\\n',\n",
       " '\\n',\n",
       " 'END DESCRIPTION:\\n',\n",
       " 'DSS Start Date=\\n',\n",
       " 'DSS Start Time=\\n',\n",
       " 'DSS End Date=\\n',\n",
       " 'DSS End Time=\\n',\n",
       " 'DSS File=.\\\\BC_Extended\\\\PortVincent_AmiteGage_15min.dss\\n',\n",
       " 'DSS File=dss\\n',\n",
       " 'DSS Export Filename=\\n',\n",
       " 'DSS Export Rating Curves= 0 \\n',\n",
       " 'DSS Export Rating Curve Sorted= 0 \\n',\n",
       " 'DSS Export Volume Flow Curves= 0 \\n',\n",
       " 'DXF Filename=\\n',\n",
       " 'DXF OffsetX= 0 \\n',\n",
       " 'DXF OffsetY= 0 \\n',\n",
       " 'DXF ScaleX= 1 \\n',\n",
       " 'DXF ScaleY= 10 \\n',\n",
       " 'GIS Export Profiles= 0 \\n']"
      ]
     },
     "execution_count": 40,
     "metadata": {},
     "output_type": "execute_result"
    }
   ],
   "source": [
    "with open(r\"Z:\\Amite\\Amite_LWI\\Models\\Amite_RAS\\Amite_2022.prj\", \"r\") as f:\n",
    "# print(f.readlines())\n",
    "    lines = f.readlines()\n",
    "\n",
    "lines"
   ]
  },
  {
   "cell_type": "code",
   "execution_count": 47,
   "metadata": {},
   "outputs": [],
   "source": [
    "lines = [s.strip('\\n') for s in lines]"
   ]
  },
  {
   "cell_type": "code",
   "execution_count": 48,
   "metadata": {},
   "outputs": [],
   "source": [
    "keyValueList = copy.deepcopy(lines)\n",
    "# Create a pop list of indices to remove because missing key=value pairs.\n",
    "popList = []\n",
    "for i,v in enumerate(lines):\n",
    "    if '=' not in v:\n",
    "        popList.append(i)\n",
    "# Remove indices in popList\n",
    "for index in sorted(popList, reverse=True):\n",
    "    del keyValueList[index]"
   ]
  },
  {
   "cell_type": "code",
   "execution_count": null,
   "metadata": {},
   "outputs": [],
   "source": []
  },
  {
   "cell_type": "code",
   "execution_count": 52,
   "metadata": {},
   "outputs": [
    {
     "data": {
      "text/plain": [
       "{'Proj Title': 'Amite_2022',\n",
       " 'Current Plan': 'p07',\n",
       " 'Default Exp/Contr': '0.3,0.1',\n",
       " 'Geom File': 'g01',\n",
       " 'Unsteady File': 'u02',\n",
       " 'Plan File': 'p04',\n",
       " 'Background Map Layer': 'Gauging Stations',\n",
       " 'Y Axis Title': 'Elevation',\n",
       " 'X Axis Title(PF)': 'Main Channel Distance',\n",
       " 'X Axis Title(XS)': 'Station',\n",
       " 'DSS Start Date': '',\n",
       " 'DSS Start Time': '',\n",
       " 'DSS End Date': '',\n",
       " 'DSS End Time': '',\n",
       " 'DSS File': 'dss',\n",
       " 'DSS Export Filename': '',\n",
       " 'DSS Export Rating Curves': ' 0 ',\n",
       " 'DSS Export Rating Curve Sorted': ' 0 ',\n",
       " 'DSS Export Volume Flow Curves': ' 0 ',\n",
       " 'DXF Filename': '',\n",
       " 'DXF OffsetX': ' 0 ',\n",
       " 'DXF OffsetY': ' 0 ',\n",
       " 'DXF ScaleX': ' 1 ',\n",
       " 'DXF ScaleY': ' 10 ',\n",
       " 'GIS Export Profiles': ' 0 '}"
      ]
     },
     "execution_count": 52,
     "metadata": {},
     "output_type": "execute_result"
    }
   ],
   "source": [
    "keyValues_dict = dict(s.split('=',1) for s in keyValueList)\n",
    "keyValues_dict"
   ]
  },
  {
   "cell_type": "code",
   "execution_count": null,
   "metadata": {},
   "outputs": [],
   "source": [
    "# add popList lines from prj file to keyValue_dict\n"
   ]
  }
 ],
 "metadata": {
  "kernelspec": {
   "display_name": "flask-forms",
   "language": "python",
   "name": "python3"
  },
  "language_info": {
   "codemirror_mode": {
    "name": "ipython",
    "version": 3
   },
   "file_extension": ".py",
   "mimetype": "text/x-python",
   "name": "python",
   "nbconvert_exporter": "python",
   "pygments_lexer": "ipython3",
   "version": "3.11.0"
  },
  "orig_nbformat": 4,
  "vscode": {
   "interpreter": {
    "hash": "990a51e6637b3aec83bdfd68488de192c6aff3f5a8661c0fcf7fce7c40ea5ab0"
   }
  }
 },
 "nbformat": 4,
 "nbformat_minor": 2
}
